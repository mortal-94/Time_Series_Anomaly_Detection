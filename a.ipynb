{
 "cells": [
  {
   "cell_type": "code",
   "execution_count": 1,
   "metadata": {},
   "outputs": [],
   "source": [
    "import torch\n",
    "import torch.nn as nn\n",
    "import torch.optim as optim\n",
    "import pandas as pd\n",
    "import numpy as np\n",
    "from sklearn.preprocessing import StandardScaler\n",
    "from sklearn.metrics import confusion_matrix, classification_report\n",
    "import matplotlib.pyplot as plt\n",
    "import seaborn as sns\n",
    "import os\n",
    "from tqdm import tqdm\n",
    "from torch.utils.data import DataLoader\n",
    "from time import time\n",
    "import random\n",
    "import json\n",
    "import argparse\n",
    "\n",
    "from data_loader import SeqDataLoader\n",
    "from models.my_model import SE_CNN_LSTM\n",
    "from models.lstm import LSTMPredictor\n",
    "from models.lstm_ae import LSTMAutoencoder\n"
   ]
  },
  {
   "cell_type": "code",
   "execution_count": 2,
   "metadata": {},
   "outputs": [],
   "source": [
    "def set_global_seed(seed=42):\n",
    "    # 设置 Python 的随机种子\n",
    "    random.seed(seed)\n",
    "    # 设置 NumPy 的随机种子\n",
    "    np.random.seed(seed)\n",
    "    # 设置 PyTorch 的 CPU 随机种子\n",
    "    torch.manual_seed(seed)\n",
    "    # 设置 PyTorch 的 CUDA 随机种子\n",
    "    if torch.cuda.is_available():\n",
    "        torch.cuda.manual_seed(seed)\n",
    "        torch.cuda.manual_seed_all(seed)\n",
    "        # 禁用 CUDA 卷积操作的非确定性算法\n",
    "        torch.backends.cudnn.deterministic = True\n",
    "        # 禁用 CUDA 卷积操作的自动寻找最优算法\n",
    "        torch.backends.cudnn.benchmark = False\n",
    "\n",
    "set_global_seed()"
   ]
  },
  {
   "cell_type": "code",
   "execution_count": 33,
   "metadata": {},
   "outputs": [
    {
     "name": "stdout",
     "output_type": "stream",
     "text": [
      "Using device: cpu\n"
     ]
    }
   ],
   "source": [
    "\n",
    "# config_path = './run_swat.json'\n",
    "# if not os.path.exists(config_path):\n",
    "#     raise FileNotFoundError(f\"Config file not found: {config_path}\")\n",
    "# if not os.pat.exists('./checkpoints'):\n",
    "#     os.makedirs('./checkpoints')\n",
    "# with open(config_path, 'r') as f:\n",
    "#     config = json.load(f)\n",
    "config = {\n",
    "    \"dataset_args\": {\n",
    "        \"dataset\": \"swat\",\n",
    "        \"train_data_path\": \"./dataset/swat/train.csv\",\n",
    "        \"test_data_path\": \"./dataset/swat/test.csv\",\n",
    "        \"winsize\": 60,\n",
    "        \"step\": 20\n",
    "    },\n",
    "    \"model_args\": {\n",
    "        \"model\": 0,\n",
    "        \"input_dim\": 51,\n",
    "        \"cnn1\": 64,\n",
    "        \"k1\": 5,\n",
    "        \"pad1\": 2,\n",
    "        \"SEratio1\": 8,\n",
    "        \"maxpool1\": 2,\n",
    "        \"cnn2\": 128,\n",
    "        \"k2\": 3,\n",
    "        \"pad2\": 1,\n",
    "        \"maxpool2\": 2,\n",
    "        \"SEratio2\": 16,\n",
    "        \"hidden_dim\": 64,\n",
    "        \"lstm_layers\": 4\n",
    "    },\n",
    "    \"training_args\": {\n",
    "        \"model_dir\": None,\n",
    "        \"lr\": 0.01,\n",
    "        \"epochs\": 20,\n",
    "        \"batch_size\": 32,\n",
    "        \"AE_MODEL\": False,\n",
    "        \"threshold\": 0.5\n",
    "    }\n",
    "}\n",
    "\n",
    "dataset_args = config[\"dataset_args\"]\n",
    "model_args = config[\"model_args\"]\n",
    "training_args = config[\"training_args\"]\n",
    "\n",
    "AE_MODEL = training_args[\"AE_MODEL\"]   # 是否是自编码器模型\n",
    "\n",
    "# 检测是否有可用的GPU\n",
    "device = torch.device(\"cuda\" if torch.cuda.is_available() else \"cpu\")\n",
    "print(\"Using device:\", device)"
   ]
  },
  {
   "cell_type": "code",
   "execution_count": 21,
   "metadata": {},
   "outputs": [
    {
     "name": "stdout",
     "output_type": "stream",
     "text": [
      "Loading swat Train data, window size is 60, step is 20\n",
      "swat Train data shape: (495000, 51)\n",
      "Train data length: 24747\n",
      "Data sample shape: (60, 51)\n",
      "Loading swat Test data, window size is 60, step is 1\n",
      "swat Test data shape: (449919, 51)\n",
      "Test data length 449859\n",
      "Test set Normal : 395298; Attack : 54621\n",
      "Data sample shape: (60, 51)\n",
      "54621\n"
     ]
    }
   ],
   "source": [
    "\n",
    "\"\"\"数据加载\"\"\"\n",
    "dataset_name = dataset_args[\"dataset\"]\n",
    "train_data = SeqDataLoader(dataset_path=dataset_args[\"train_data_path\"], win_size=dataset_args[\"winsize\"], step=dataset_args[\"step\"], name=f\"{dataset_name} Train\")\n",
    "print(f'Train data length: {len(train_data)}')\n",
    "print('Data sample shape:', train_data[0][0].shape)\n",
    "\n",
    "\"\"\"数据加载\"\"\"\n",
    "dataset_name = dataset_args[\"dataset\"]\n",
    "test_data = SeqDataLoader(dataset_path=dataset_args[\"test_data_path\"], win_size=dataset_args[\"winsize\"], step=1, name=f\"{dataset_name} Test\")\n",
    "y_true = test_data.get_test_labels()\n",
    "print(f'Test data length {len(test_data)}')\n",
    "print(f'Test set Normal : {np.sum(y_true == 0)}; Attack : {np.sum(y_true == 1)}')\n",
    "print('Data sample shape:', test_data[0][0].shape)\n",
    "y_true_1 = np.where(y_true==1)[0]\n",
    "print(len(y_true_1))"
   ]
  },
  {
   "cell_type": "code",
   "execution_count": null,
   "metadata": {},
   "outputs": [
    {
     "name": "stderr",
     "output_type": "stream",
     "text": [
      "  0%|          | 0/20 [00:00<?, ?it/s]"
     ]
    },
    {
     "name": "stdout",
     "output_type": "stream",
     "text": [
      "Epoch 0, batch 0, loss: 0.47727319598197937\n",
      "Epoch 0, batch 500, loss: 0.5282800197601318\n"
     ]
    },
    {
     "name": "stderr",
     "output_type": "stream",
     "text": [
      "  5%|▌         | 1/20 [00:15<05:02, 15.93s/it]"
     ]
    },
    {
     "name": "stdout",
     "output_type": "stream",
     "text": [
      "Epoch 1, batch 0, loss: 0.3072633445262909\n",
      "Epoch 1, batch 500, loss: 0.531277060508728\n"
     ]
    },
    {
     "name": "stderr",
     "output_type": "stream",
     "text": [
      " 10%|█         | 2/20 [00:32<04:55, 16.40s/it]"
     ]
    },
    {
     "name": "stdout",
     "output_type": "stream",
     "text": [
      "Epoch 2, batch 0, loss: 0.23007692396640778\n",
      "Epoch 2, batch 500, loss: 0.24347636103630066\n"
     ]
    },
    {
     "name": "stderr",
     "output_type": "stream",
     "text": [
      " 15%|█▌        | 3/20 [01:00<06:10, 21.82s/it]"
     ]
    },
    {
     "name": "stdout",
     "output_type": "stream",
     "text": [
      "Epoch 3, batch 0, loss: 0.2507707178592682\n",
      "Epoch 3, batch 500, loss: 0.29801487922668457\n"
     ]
    },
    {
     "name": "stderr",
     "output_type": "stream",
     "text": [
      " 20%|██        | 4/20 [01:44<08:03, 30.24s/it]"
     ]
    },
    {
     "name": "stdout",
     "output_type": "stream",
     "text": [
      "Epoch 4, batch 0, loss: 0.38097453117370605\n",
      "Epoch 4, batch 500, loss: 0.2589585483074188\n"
     ]
    },
    {
     "name": "stderr",
     "output_type": "stream",
     "text": [
      " 25%|██▌       | 5/20 [02:28<08:52, 35.53s/it]"
     ]
    },
    {
     "name": "stdout",
     "output_type": "stream",
     "text": [
      "Epoch 5, batch 0, loss: 0.315965473651886\n",
      "Epoch 5, batch 500, loss: 0.3246470093727112\n"
     ]
    },
    {
     "name": "stderr",
     "output_type": "stream",
     "text": [
      " 30%|███       | 6/20 [03:10<08:44, 37.47s/it]"
     ]
    },
    {
     "name": "stdout",
     "output_type": "stream",
     "text": [
      "Epoch 6, batch 0, loss: 1.0076801776885986\n"
     ]
    }
   ],
   "source": [
    "\n",
    "\"\"\"模型创建\"\"\"\n",
    "data_dim = train_data[0][0].shape[-1]\n",
    "model_list = [SE_CNN_LSTM, LSTMPredictor, LSTMAutoencoder]\n",
    "model = model_list[model_args[\"model\"]](model_args)  # 选择模型\n",
    "\n",
    "model.to(device)  # 将模型移动到GPU上\n",
    "\n",
    "filenameWithoutExt = f'{model.ModelName}_{dataset_args[\"dataset\"]}_{int(time())}'\n",
    "\n",
    "\"\"\"模型训练\"\"\"\n",
    "learning_rate = training_args[\"lr\"]\n",
    "num_epochs = training_args[\"epochs\"]\n",
    "batch_size = training_args[\"batch_size\"]\n",
    "criterion = nn.MSELoss()\n",
    "optimizer = optim.Adam(model.parameters(), lr=learning_rate, weight_decay=5e-4)\n",
    "data_loader = DataLoader(train_data, batch_size=batch_size, shuffle=True)\n",
    "# 训练循环，显示进度条\n",
    "losses = []\n",
    "model.train()\n",
    "for epoch in tqdm(range(num_epochs)):\n",
    "    for i, (x, x_1) in enumerate(data_loader):\n",
    "        optimizer.zero_grad()\n",
    "        x = x.to(device)  # 将数据移动到GPU上\n",
    "        x_1 = x_1.to(device)  # 将数据移动到GPU上\n",
    "        y = model(x)\n",
    "        if AE_MODEL:\n",
    "            loss = criterion(y[:,-1,:], x[:,-1,:])  # 自编码器的目标是重构，用窗口内的最后一步比较误差\n",
    "        else:\n",
    "            loss = criterion(y, x_1)  # 下一步的数据作为预测目标\n",
    "        loss.backward()\n",
    "        optimizer.step()\n",
    "\n",
    "        losses.append(loss.item())\n",
    "        if i % 500 == 0:\n",
    "            print(f'Epoch {epoch}, batch {i}, loss: {loss.item()}')\n",
    "# 保存模型\n",
    "torch.save(model.state_dict(), f\"./checkpoints/{filenameWithoutExt}.pth\")\n",
    "config[\"training_args\"][\"model_dir\"] = f\"./checkpoints/{filenameWithoutExt}.pth\"\n",
    "print(f\"Model saved to ./checkpoints/{filenameWithoutExt}.pth\")\n",
    "# 绘图\n",
    "plt.plot(losses, label='Loss')\n",
    "plt.xlabel('Iteration')\n",
    "plt.ylabel('Loss')\n",
    "plt.title('Training Loss')\n",
    "plt.legend()\n",
    "plt.show()\n",
    "\n",
    "\n",
    "\"\"\"结果保存\"\"\"\n",
    "# 保存超参数结果到json文件\n",
    "with open(f'./checkpoints/{filenameWithoutExt}.json', 'w') as f:\n",
    "    json.dump({'args': config}, f, indent=4)\n",
    "    print(f\"Config saved to ./checkpoints/{filenameWithoutExt}.json\")\n"
   ]
  },
  {
   "cell_type": "code",
   "execution_count": 28,
   "metadata": {},
   "outputs": [
    {
     "name": "stderr",
     "output_type": "stream",
     "text": [
      "100%|██████████| 774/774 [00:33<00:00, 23.09it/s]\n"
     ]
    },
    {
     "data": {
      "image/png": "[encoded data removed]",
      "text/plain": [
       "<Figure size 1000x600 with 1 Axes>"
      ]
     },
     "metadata": {},
     "output_type": "display_data"
    }
   ],
   "source": [
    "model.eval()\n",
    "losses4train = []\n",
    "with torch.no_grad():\n",
    "    for x, x_1 in tqdm(data_loader):\n",
    "        x = x.to(device)\n",
    "        x_1 = x_1.to(device)\n",
    "        y = model(x)\n",
    "        if AE_MODEL:\n",
    "            loss = criterion(y[:,-1,:], x[:,-1,:])     # 自编码器的目标是重构，用窗口内的最后一步比较误差\n",
    "        else:\n",
    "            loss = criterion(y, x_1)     # 下一步的数据作为预测目标\n",
    "\n",
    "        losses4train.append(loss.item())\n",
    "\n",
    "# 绘制误差数值分布，以便选择阈值\n",
    "plt.figure(figsize=(10, 6))\n",
    "plt.hist(losses4train, bins=100, color='blue', alpha=0.7)\n",
    "plt.title('Loss Distribution')\n",
    "plt.xlabel('Loss')\n",
    "plt.ylabel('Frequency')\n",
    "plt.grid()\n",
    "plt.savefig(f\"./checkpoints/{filenameWithoutExt}_loss_distribution.png\")\n",
    "plt.show()\n"
   ]
  },
  {
   "cell_type": "code",
   "execution_count": 29,
   "metadata": {},
   "outputs": [
    {
     "name": "stderr",
     "output_type": "stream",
     "text": [
      "100%|██████████| 7030/7030 [09:40<00:00, 12.11it/s]\n"
     ]
    },
    {
     "data": {
      "text/plain": [
       "<matplotlib.legend.Legend at 0x166848d1310>"
      ]
     },
     "execution_count": 29,
     "metadata": {},
     "output_type": "execute_result"
    },
    {
     "data": {
      "image/png": "[encoded data removed]",
      "text/plain": [
       "<Figure size 1000x600 with 1 Axes>"
      ]
     },
     "metadata": {},
     "output_type": "display_data"
    }
   ],
   "source": [
    "\n",
    "\"\"\"模型评估\"\"\"\n",
    "test_losses = []\n",
    "criterion = nn.MSELoss(reduction='none')\n",
    "test_data_loader = DataLoader(test_data, batch_size=64, shuffle=False)  # 评估所用batch_size不影响\n",
    "with torch.no_grad():\n",
    "    for x, x_1 in tqdm(test_data_loader):\n",
    "        x = x.to(device)\n",
    "        x_1 = x_1.to(device)\n",
    "        y = model(x)\n",
    "        if AE_MODEL:\n",
    "            loss = criterion(y[:,-1,:], x[:,-1,:]).mean(dim=1)     # 自编码器的目标是重构，用窗口内的最后一步比较误差\n",
    "        else:\n",
    "            loss = criterion(y, x_1).mean(dim=1)     # 下一步的数据作为预测目标\n",
    "\n",
    "        test_losses += loss.tolist()\n",
    "\n",
    "# 绘图\n",
    "plt.figure(figsize=(10, 6))\n",
    "plt.plot(test_losses, color='blue', alpha=0.7)\n",
    "plt.scatter(y_true_1, np.array(test_losses)[y_true_1], color='red', label='Anomaly', alpha=0.7, s=10)\n",
    "plt.title('Test Losses')\n",
    "plt.xlabel('Sample Index')\n",
    "plt.legend()\n",
    "\n"
   ]
  },
  {
   "cell_type": "code",
   "execution_count": 30,
   "metadata": {},
   "outputs": [
    {
     "name": "stdout",
     "output_type": "stream",
     "text": [
      "threshold: 0.3504990041255951\n",
      "              precision    recall  f1-score   support\n",
      "\n",
      "      Normal       0.97      0.88      0.92    395298\n",
      "      Attack       0.49      0.80      0.61     54621\n",
      "\n",
      "    accuracy                           0.87    449919\n",
      "   macro avg       0.73      0.84      0.77    449919\n",
      "weighted avg       0.91      0.87      0.89    449919\n",
      "\n",
      "\n",
      "threshold: 0.48586792647838584\n",
      "              precision    recall  f1-score   support\n",
      "\n",
      "      Normal       0.97      0.94      0.95    395298\n",
      "      Attack       0.62      0.77      0.69     54621\n",
      "\n",
      "    accuracy                           0.92    449919\n",
      "   macro avg       0.80      0.85      0.82    449919\n",
      "weighted avg       0.93      0.92      0.92    449919\n",
      "\n",
      "\n",
      "threshold: 0.9087589025497456\n",
      "              precision    recall  f1-score   support\n",
      "\n",
      "      Normal       0.96      0.99      0.97    395298\n",
      "      Attack       0.88      0.72      0.79     54621\n",
      "\n",
      "    accuracy                           0.95    449919\n",
      "   macro avg       0.92      0.85      0.88    449919\n",
      "weighted avg       0.95      0.95      0.95    449919\n",
      "\n",
      "\n",
      "threshold: 39.845917510986325\n",
      "              precision    recall  f1-score   support\n",
      "\n",
      "      Normal       0.92      1.00      0.96    395298\n",
      "      Attack       1.00      0.41      0.58     54621\n",
      "\n",
      "    accuracy                           0.93    449919\n",
      "   macro avg       0.96      0.71      0.77    449919\n",
      "weighted avg       0.93      0.93      0.91    449919\n",
      "\n",
      "\n",
      "threshold: 40.44168228149414\n",
      "              precision    recall  f1-score   support\n",
      "\n",
      "      Normal       0.89      1.00      0.94    395298\n",
      "      Attack       0.99      0.08      0.15     54621\n",
      "\n",
      "    accuracy                           0.89    449919\n",
      "   macro avg       0.94      0.54      0.55    449919\n",
      "weighted avg       0.90      0.89      0.84    449919\n",
      "\n",
      "\n",
      "threshold: 0.4\n",
      "              precision    recall  f1-score   support\n",
      "\n",
      "      Normal       0.97      0.91      0.94    395298\n",
      "      Attack       0.55      0.79      0.65     54621\n",
      "\n",
      "    accuracy                           0.90    449919\n",
      "   macro avg       0.76      0.85      0.79    449919\n",
      "weighted avg       0.92      0.90      0.90    449919\n",
      "\n",
      "\n"
     ]
    }
   ],
   "source": [
    "config[\"training_args\"][\"threshold\"] = 0.4\n",
    "text = []\n",
    "thresholds = np.percentile(test_losses, [80, 85, 90, 95, 99]).tolist()\n",
    "thresholds += [config[\"training_args\"][\"threshold\"]]  \n",
    "\n",
    "for threshold in thresholds:\n",
    "    y_pred = (np.array(test_losses) > threshold).astype(int)\n",
    "    if AE_MODEL:    \n",
    "        y_pred = np.concatenate([np.zeros(dataset_args[\"winsize\"]-1), y_pred]) # 自编码器的预测是窗口内的最后一步\n",
    "        y_pred = np.concatenate([y_pred, np.zeros(1)])     # 由于数据集构造是面向预测的，最后一步不在训练集里面\n",
    "    else:\n",
    "        y_pred = np.concatenate([np.zeros(dataset_args[\"winsize\"]), y_pred])  # 预测下一步\n",
    "    text.append(f'threshold: {threshold}\\n' + classification_report(y_true, y_pred, target_names=['Normal', 'Attack']) + '\\n')\n",
    "    print(text[-1])\n",
    "\n",
    "\"\"\"结果保存\"\"\"\n",
    "# 保存评估结果到json文件\n",
    "with open(f'./checkpoints/{filenameWithoutExt}.json', 'w') as f:\n",
    "    json.dump({'args': config, 'classification_report': text}, f, indent=4)"
   ]
  }
 ],
 "metadata": {
  "kernelspec": {
   "display_name": "dl-lab",
   "language": "python",
   "name": "python3"
  },
  "language_info": {
   "codemirror_mode": {
    "name": "ipython",
    "version": 3
   },
   "file_extension": ".py",
   "mimetype": "text/x-python",
   "name": "python",
   "nbconvert_exporter": "python",
   "pygments_lexer": "ipython3",
   "version": "3.13.2"
  }
 },
 "nbformat": 4,
 "nbformat_minor": 2
}
