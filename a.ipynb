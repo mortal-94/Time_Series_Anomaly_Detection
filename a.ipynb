{
 "cells": [
  {
   "cell_type": "code",
   "execution_count": 1,
   "metadata": {},
   "outputs": [],
   "source": [
    "import torch\n",
    "import torch.nn as nn\n",
    "import torch.optim as optim\n",
    "import pandas as pd\n",
    "import numpy as np\n",
    "from sklearn.preprocessing import StandardScaler\n",
    "from sklearn.metrics import confusion_matrix, classification_report\n",
    "import matplotlib.pyplot as plt\n",
    "import seaborn as sns\n",
    "import os\n",
    "from tqdm import tqdm\n",
    "from torch.utils.data import DataLoader\n",
    "from time import time\n",
    "import random\n",
    "import json\n",
    "import argparse\n",
    "\n",
    "from data_loader import SeqDataLoader\n",
    "from models.CNN_LSTM import CNN_LSTM\n",
    "from models.Res_CNN_LSTM import Res_CNN_LSTM\n",
    "from models.Res_SE_CNN_LSTM import Res_SE_CNN_LSTM\n",
    "from models.SE_CNN_LSTM import SE_CNN_LSTM\n",
    "from models.lstm import LSTMPredictor\n"
   ]
  },
  {
   "cell_type": "code",
   "execution_count": 2,
   "metadata": {},
   "outputs": [],
   "source": [
    "def set_global_seed(seed=42):\n",
    "    # 设置 Python 的随机种子\n",
    "    random.seed(seed)\n",
    "    # 设置 NumPy 的随机种子\n",
    "    np.random.seed(seed)\n",
    "    # 设置 PyTorch 的 CPU 随机种子\n",
    "    torch.manual_seed(seed)\n",
    "    # 设置 PyTorch 的 CUDA 随机种子\n",
    "    if torch.cuda.is_available():\n",
    "        torch.cuda.manual_seed(seed)\n",
    "        torch.cuda.manual_seed_all(seed)\n",
    "        # 禁用 CUDA 卷积操作的非确定性算法\n",
    "        torch.backends.cudnn.deterministic = True\n",
    "        # 禁用 CUDA 卷积操作的自动寻找最优算法\n",
    "        torch.backends.cudnn.benchmark = False\n",
    "\n",
    "set_global_seed()"
   ]
  },
  {
   "cell_type": "code",
   "execution_count": 36,
   "metadata": {},
   "outputs": [
    {
     "name": "stdout",
     "output_type": "stream",
     "text": [
      "Using device: cpu\n"
     ]
    }
   ],
   "source": [
    "\n",
    "# config_path = './run_swat.json'\n",
    "# if not os.path.exists(config_path):\n",
    "#     raise FileNotFoundError(f\"Config file not found: {config_path}\")\n",
    "if not os.path.exists('./checkpoints'):\n",
    "    os.makedirs('./checkpoints')\n",
    "# with open(config_path, 'r') as f:\n",
    "#     config = json.load(f)\n",
    "# model_list = [Res_SE_CNN_LSTM 0, Res_CNN_LSTM 1, CNN_LSTM 2, SE_CNN_LSTM 3, LSTMPredictor 4]\n",
    "\n",
    "config = {\n",
    "    \"dataset_args\": {\n",
    "        \"dataset\": \"swat\",\n",
    "        \"train_data_path\": \"./dataset/swat/train.csv\",\n",
    "        \"test_data_path\": \"./dataset/swat/test.csv\",\n",
    "        \"winsize\": 30,\n",
    "        \"step\": 10\n",
    "    },\n",
    "    \"model_args\": {\n",
    "        \"model\": 3,\n",
    "        \"input_dim\": 51,\n",
    "        \n",
    "        \"cnn1\": 128,\n",
    "        \"k1\": 5,\n",
    "        \"pad1\": 2,\n",
    "        \"SEratio1\": 16,\n",
    "        \"maxpool1\": 2,\n",
    "\n",
    "        \"cnn2\": 64,\n",
    "        \"k2\": 5,\n",
    "        \"pad2\": 2,\n",
    "        \"maxpool2\": 2,\n",
    "        \"SEratio2\": 16,\n",
    "\n",
    "        \"hidden_dim\": 64,\n",
    "        \"lstm_layers\": 1\n",
    "    },\n",
    "    \"training_args\": {\n",
    "        \"model_dir\": None,\n",
    "        \"lr\": 0.001,\n",
    "        \"epochs\": 10,\n",
    "        \"batch_size\": 32,\n",
    "        \"AE_MODEL\": False,\n",
    "        \"threshold\": 0.5\n",
    "    }\n",
    "}\n",
    "\n",
    "dataset_args = config[\"dataset_args\"]\n",
    "model_args = config[\"model_args\"]\n",
    "training_args = config[\"training_args\"]\n",
    "\n",
    "AE_MODEL = training_args[\"AE_MODEL\"]   # 是否是自编码器模型\n",
    "\n",
    "# 检测是否有可用的GPU\n",
    "device = torch.device(\"cuda\" if torch.cuda.is_available() else \"cpu\")\n",
    "print(\"Using device:\", device)"
   ]
  },
  {
   "cell_type": "code",
   "execution_count": 5,
   "metadata": {},
   "outputs": [
    {
     "name": "stdout",
     "output_type": "stream",
     "text": [
      "Loading swat Train data, window size is 30, step is 10\n",
      "swat Train data shape: (495000, 51)\n",
      "Train data length: 49497\n",
      "Data sample shape: (30, 51)\n",
      "Loading swat Test data, window size is 30, step is 1\n",
      "swat Test data shape: (449919, 51)\n",
      "Test data length 449889\n",
      "Test set Normal : 395298; Attack : 54621\n",
      "Data sample shape: (30, 51)\n",
      "54621\n"
     ]
    }
   ],
   "source": [
    "\n",
    "\"\"\"数据加载\"\"\"\n",
    "dataset_name = dataset_args[\"dataset\"]\n",
    "train_data = SeqDataLoader(dataset_path=dataset_args[\"train_data_path\"], win_size=dataset_args[\"winsize\"], step=dataset_args[\"step\"], name=f\"{dataset_name} Train\")\n",
    "print(f'Train data length: {len(train_data)}')\n",
    "print('Data sample shape:', train_data[0][0].shape)\n",
    "\n",
    "\"\"\"数据加载\"\"\"\n",
    "dataset_name = dataset_args[\"dataset\"]\n",
    "test_data = SeqDataLoader(dataset_path=dataset_args[\"test_data_path\"], win_size=dataset_args[\"winsize\"], step=1, name=f\"{dataset_name} Test\")\n",
    "y_true = test_data.get_test_labels()\n",
    "print(f'Test data length {len(test_data)}')\n",
    "print(f'Test set Normal : {np.sum(y_true == 0)}; Attack : {np.sum(y_true == 1)}')\n",
    "print('Data sample shape:', test_data[0][0].shape)\n",
    "y_true_1 = np.where(y_true==1)[0]\n",
    "print(len(y_true_1))"
   ]
  },
  {
   "cell_type": "code",
   "execution_count": null,
   "metadata": {},
   "outputs": [
    {
     "name": "stdout",
     "output_type": "stream",
     "text": [
      "SE_CNN_LSTM\n"
     ]
    },
    {
     "name": "stderr",
     "output_type": "stream",
     "text": [
      "  0%|          | 0/10 [00:00<?, ?it/s]"
     ]
    },
    {
     "name": "stdout",
     "output_type": "stream",
     "text": [
      "Epoch 0, batch 0, loss: 0.48735329508781433\n",
      "Epoch 0, batch 500, loss: 0.03359006345272064\n",
      "Epoch 0, batch 1000, loss: 0.17010755836963654\n",
      "Epoch 0, batch 1500, loss: 0.09548767656087875\n"
     ]
    },
    {
     "name": "stderr",
     "output_type": "stream",
     "text": [
      " 10%|█         | 1/10 [00:22<03:20, 22.33s/it]"
     ]
    },
    {
     "name": "stdout",
     "output_type": "stream",
     "text": [
      "Epoch 1, batch 0, loss: 0.374169260263443\n",
      "Epoch 1, batch 500, loss: 0.013540904968976974\n",
      "Epoch 1, batch 1000, loss: 0.01645681820809841\n",
      "Epoch 1, batch 1500, loss: 0.017360754311084747\n"
     ]
    },
    {
     "name": "stderr",
     "output_type": "stream",
     "text": [
      " 20%|██        | 2/10 [00:48<03:18, 24.83s/it]"
     ]
    },
    {
     "name": "stdout",
     "output_type": "stream",
     "text": [
      "Epoch 2, batch 0, loss: 0.0340377502143383\n",
      "Epoch 2, batch 500, loss: 0.02877638302743435\n",
      "Epoch 2, batch 1000, loss: 0.028212770819664\n",
      "Epoch 2, batch 1500, loss: 0.024742070585489273\n"
     ]
    },
    {
     "name": "stderr",
     "output_type": "stream",
     "text": [
      " 30%|███       | 3/10 [01:08<02:37, 22.50s/it]"
     ]
    },
    {
     "name": "stdout",
     "output_type": "stream",
     "text": [
      "Epoch 3, batch 0, loss: 0.027426470071077347\n",
      "Epoch 3, batch 500, loss: 0.013452707789838314\n",
      "Epoch 3, batch 1000, loss: 0.07154501229524612\n",
      "Epoch 3, batch 1500, loss: 0.012029027566313744\n"
     ]
    },
    {
     "name": "stderr",
     "output_type": "stream",
     "text": [
      " 40%|████      | 4/10 [01:27<02:07, 21.26s/it]"
     ]
    },
    {
     "name": "stdout",
     "output_type": "stream",
     "text": [
      "Epoch 4, batch 0, loss: 0.010744838044047356\n",
      "Epoch 4, batch 500, loss: 0.025542479008436203\n",
      "Epoch 4, batch 1000, loss: 0.01229985523968935\n",
      "Epoch 4, batch 1500, loss: 0.022380400449037552\n"
     ]
    },
    {
     "name": "stderr",
     "output_type": "stream",
     "text": [
      " 50%|█████     | 5/10 [01:46<01:41, 20.26s/it]"
     ]
    },
    {
     "name": "stdout",
     "output_type": "stream",
     "text": [
      "Epoch 5, batch 0, loss: 0.046444475650787354\n",
      "Epoch 5, batch 500, loss: 0.03403294458985329\n",
      "Epoch 5, batch 1000, loss: 0.02333269640803337\n",
      "Epoch 5, batch 1500, loss: 0.016491644084453583\n"
     ]
    },
    {
     "name": "stderr",
     "output_type": "stream",
     "text": [
      " 60%|██████    | 6/10 [02:04<01:17, 19.40s/it]"
     ]
    },
    {
     "name": "stdout",
     "output_type": "stream",
     "text": [
      "Epoch 6, batch 0, loss: 0.026759551838040352\n",
      "Epoch 6, batch 500, loss: 0.0669647678732872\n",
      "Epoch 6, batch 1000, loss: 0.02121538110077381\n",
      "Epoch 6, batch 1500, loss: 0.03621130809187889\n"
     ]
    },
    {
     "name": "stderr",
     "output_type": "stream",
     "text": [
      " 70%|███████   | 7/10 [02:26<01:01, 20.50s/it]"
     ]
    },
    {
     "name": "stdout",
     "output_type": "stream",
     "text": [
      "Epoch 7, batch 0, loss: 0.03609266132116318\n",
      "Epoch 7, batch 500, loss: 0.02524128556251526\n",
      "Epoch 7, batch 1000, loss: 0.015512969344854355\n",
      "Epoch 7, batch 1500, loss: 0.031049691140651703\n"
     ]
    },
    {
     "name": "stderr",
     "output_type": "stream",
     "text": [
      " 80%|████████  | 8/10 [03:18<01:00, 30.33s/it]"
     ]
    },
    {
     "name": "stdout",
     "output_type": "stream",
     "text": [
      "Epoch 8, batch 0, loss: 0.020478414371609688\n",
      "Epoch 8, batch 500, loss: 0.016978073865175247\n",
      "Epoch 8, batch 1000, loss: 0.011600777506828308\n"
     ]
    }
   ],
   "source": [
    "\n",
    "\"\"\"模型创建\"\"\"\n",
    "data_dim = train_data[0][0].shape[-1]\n",
    "model_list = [Res_SE_CNN_LSTM, Res_CNN_LSTM, CNN_LSTM, SE_CNN_LSTM, LSTMPredictor]\n",
    "model = model_list[model_args[\"model\"]](model_args)  # 选择模型\n",
    "# model = SE_CNN_LSTM(model_args)  # 选择模型\n",
    "print(model.ModelName)\n",
    "model.to(device)  # 将模型移动到GPU上\n",
    "\n",
    "filenameWithoutExt = f'{model.ModelName}_{dataset_args[\"dataset\"]}_{int(time())}'\n",
    "\n",
    "\"\"\"模型训练\"\"\"\n",
    "learning_rate = training_args[\"lr\"]\n",
    "num_epochs = training_args[\"epochs\"]\n",
    "batch_size = training_args[\"batch_size\"]\n",
    "criterion = nn.MSELoss()\n",
    "optimizer = optim.Adam(model.parameters(), lr=learning_rate, weight_decay=5e-4)\n",
    "data_loader = DataLoader(train_data, batch_size=batch_size, shuffle=True)\n",
    "# 训练循环，显示进度条\n",
    "losses = []\n",
    "model.train()\n",
    "for epoch in tqdm(range(num_epochs)):\n",
    "    for i, (x, x_1) in enumerate(data_loader):\n",
    "        optimizer.zero_grad()\n",
    "        x = x.to(device)  # 将数据移动到GPU上\n",
    "        x_1 = x_1.to(device)  # 将数据移动到GPU上\n",
    "        y = model(x)\n",
    "        if AE_MODEL:\n",
    "            loss = criterion(y[:,-1,:], x[:,-1,:])  # 自编码器的目标是重构，用窗口内的最后一步比较误差\n",
    "        else:\n",
    "            loss = criterion(y, x_1)  # 下一步的数据作为预测目标\n",
    "        loss.backward()\n",
    "        optimizer.step()\n",
    "\n",
    "        losses.append(loss.item())\n",
    "        if i % 500 == 0:\n",
    "            print(f'Epoch {epoch}, batch {i}, loss: {loss.item()}')\n",
    "# 保存模型\n",
    "torch.save(model.state_dict(), f\"./checkpoints/{filenameWithoutExt}.pth\")\n",
    "config[\"training_args\"][\"model_dir\"] = f\"./checkpoints/{filenameWithoutExt}.pth\"\n",
    "print(f\"Model saved to ./checkpoints/{filenameWithoutExt}.pth\")\n",
    "# 绘图\n",
    "plt.plot(losses, label='Loss')\n",
    "plt.xlabel('Iteration')\n",
    "plt.ylabel('Loss')\n",
    "plt.title('Training Loss')\n",
    "plt.legend()\n",
    "plt.show()\n",
    "\n",
    "\n",
    "\"\"\"结果保存\"\"\"\n",
    "# 保存超参数结果到json文件\n",
    "with open(f'./checkpoints/{filenameWithoutExt}.json', 'w') as f:\n",
    "    json.dump({'args': config}, f, indent=4)\n",
    "    print(f\"Config saved to ./checkpoints/{filenameWithoutExt}.json\")\n"
   ]
  },
  {
   "cell_type": "code",
   "execution_count": 33,
   "metadata": {},
   "outputs": [
    {
     "name": "stderr",
     "output_type": "stream",
     "text": [
      "100%|██████████| 1547/1547 [00:03<00:00, 483.44it/s]\n"
     ]
    },
    {
     "data": {
      "image/png": "[encoded data removed]",
      "text/plain": [
       "<Figure size 1000x600 with 1 Axes>"
      ]
     },
     "metadata": {},
     "output_type": "display_data"
    }
   ],
   "source": [
    "model.eval()\n",
    "losses4train = []\n",
    "with torch.no_grad():\n",
    "    for x, x_1 in tqdm(data_loader):\n",
    "        x = x.to(device)\n",
    "        x_1 = x_1.to(device)\n",
    "        y = model(x)\n",
    "        if AE_MODEL:\n",
    "            loss = criterion(y[:,-1,:], x[:,-1,:])     # 自编码器的目标是重构，用窗口内的最后一步比较误差\n",
    "        else:\n",
    "            loss = criterion(y, x_1)     # 下一步的数据作为预测目标\n",
    "\n",
    "        losses4train.append(loss.item())\n",
    "\n",
    "# 绘制误差数值分布，以便选择阈值\n",
    "plt.figure(figsize=(10, 6))\n",
    "plt.hist(losses4train, bins=100, color='blue', alpha=0.7)\n",
    "plt.title('Loss Distribution')\n",
    "plt.xlabel('Loss')\n",
    "plt.ylabel('Frequency')\n",
    "plt.grid()\n",
    "plt.savefig(f\"./checkpoints/{filenameWithoutExt}_loss_distribution.png\")\n",
    "plt.show()\n"
   ]
  },
  {
   "cell_type": "code",
   "execution_count": 34,
   "metadata": {},
   "outputs": [
    {
     "name": "stderr",
     "output_type": "stream",
     "text": [
      "100%|██████████| 7030/7030 [00:26<00:00, 267.58it/s]\n"
     ]
    },
    {
     "data": {
      "text/plain": [
       "<matplotlib.legend.Legend at 0x2268efb8f50>"
      ]
     },
     "execution_count": 34,
     "metadata": {},
     "output_type": "execute_result"
    },
    {
     "data": {
      "image/png": "[encoded data removed]",
      "text/plain": [
       "<Figure size 1000x600 with 1 Axes>"
      ]
     },
     "metadata": {},
     "output_type": "display_data"
    }
   ],
   "source": [
    "\n",
    "\"\"\"模型评估\"\"\"\n",
    "test_losses = []\n",
    "criterion = nn.MSELoss(reduction='none')\n",
    "test_data_loader = DataLoader(test_data, batch_size=64, shuffle=False)  # 评估所用batch_size不影响\n",
    "with torch.no_grad():\n",
    "    for x, x_1 in tqdm(test_data_loader):\n",
    "        x = x.to(device)\n",
    "        x_1 = x_1.to(device)\n",
    "        y = model(x)\n",
    "        if AE_MODEL:\n",
    "            loss = criterion(y[:,-1,:], x[:,-1,:]).mean(dim=1)     # 自编码器的目标是重构，用窗口内的最后一步比较误差\n",
    "        else:\n",
    "            loss = criterion(y, x_1).mean(dim=1)     # 下一步的数据作为预测目标\n",
    "\n",
    "        test_losses += loss.tolist()\n",
    "\n",
    "# 绘图\n",
    "plt.figure(figsize=(10, 6))\n",
    "plt.plot(test_losses, color='blue', alpha=0.7)\n",
    "plt.scatter(y_true_1, np.array(test_losses)[y_true_1], color='red', label='Anomaly', alpha=0.7, s=10)\n",
    "plt.title('Test Losses')\n",
    "plt.xlabel('Sample Index')\n",
    "plt.legend()\n",
    "\n"
   ]
  },
  {
   "cell_type": "code",
   "execution_count": 35,
   "metadata": {},
   "outputs": [
    {
     "name": "stdout",
     "output_type": "stream",
     "text": [
      "threshold: 0.6\n",
      "              precision    recall  f1-score   support\n",
      "\n",
      "      Normal       0.96      0.97      0.97    395298\n",
      "      Attack       0.79      0.72      0.75     54621\n",
      "\n",
      "    accuracy                           0.94    449919\n",
      "   macro avg       0.87      0.85      0.86    449919\n",
      "weighted avg       0.94      0.94      0.94    449919\n",
      "\n",
      "\n",
      "threshold: 0.7\n",
      "              precision    recall  f1-score   support\n",
      "\n",
      "      Normal       0.96      0.98      0.97    395298\n",
      "      Attack       0.83      0.72      0.77     54621\n",
      "\n",
      "    accuracy                           0.95    449919\n",
      "   macro avg       0.90      0.85      0.87    449919\n",
      "weighted avg       0.95      0.95      0.95    449919\n",
      "\n",
      "\n",
      "threshold: 0.7999999999999999\n",
      "              precision    recall  f1-score   support\n",
      "\n",
      "      Normal       0.96      0.98      0.97    395298\n",
      "      Attack       0.86      0.71      0.78     54621\n",
      "\n",
      "    accuracy                           0.95    449919\n",
      "   macro avg       0.91      0.85      0.87    449919\n",
      "weighted avg       0.95      0.95      0.95    449919\n",
      "\n",
      "\n",
      "threshold: 0.8999999999999999\n",
      "              precision    recall  f1-score   support\n",
      "\n",
      "      Normal       0.96      0.99      0.97    395298\n",
      "      Attack       0.89      0.70      0.78     54621\n",
      "\n",
      "    accuracy                           0.95    449919\n",
      "   macro avg       0.92      0.84      0.88    449919\n",
      "weighted avg       0.95      0.95      0.95    449919\n",
      "\n",
      "\n",
      "threshold: 0.9999999999999999\n",
      "              precision    recall  f1-score   support\n",
      "\n",
      "      Normal       0.96      0.99      0.97    395298\n",
      "      Attack       0.91      0.70      0.79     54621\n",
      "\n",
      "    accuracy                           0.95    449919\n",
      "   macro avg       0.93      0.84      0.88    449919\n",
      "weighted avg       0.95      0.95      0.95    449919\n",
      "\n",
      "\n",
      "threshold: 1.0999999999999999\n",
      "              precision    recall  f1-score   support\n",
      "\n",
      "      Normal       0.96      0.99      0.98    395298\n",
      "      Attack       0.92      0.70      0.79     54621\n",
      "\n",
      "    accuracy                           0.96    449919\n",
      "   macro avg       0.94      0.84      0.88    449919\n",
      "weighted avg       0.95      0.96      0.95    449919\n",
      "\n",
      "\n",
      "threshold: 1.1999999999999997\n",
      "              precision    recall  f1-score   support\n",
      "\n",
      "      Normal       0.96      0.99      0.98    395298\n",
      "      Attack       0.92      0.69      0.79     54621\n",
      "\n",
      "    accuracy                           0.96    449919\n",
      "   macro avg       0.94      0.84      0.88    449919\n",
      "weighted avg       0.95      0.96      0.95    449919\n",
      "\n",
      "\n",
      "threshold: 1.2999999999999998\n",
      "              precision    recall  f1-score   support\n",
      "\n",
      "      Normal       0.96      0.99      0.98    395298\n",
      "      Attack       0.93      0.69      0.79     54621\n",
      "\n",
      "    accuracy                           0.96    449919\n",
      "   macro avg       0.94      0.84      0.88    449919\n",
      "weighted avg       0.96      0.96      0.95    449919\n",
      "\n",
      "\n",
      "threshold: 1.4\n",
      "              precision    recall  f1-score   support\n",
      "\n",
      "      Normal       0.96      0.99      0.98    395298\n",
      "      Attack       0.93      0.69      0.79     54621\n",
      "\n",
      "    accuracy                           0.96    449919\n",
      "   macro avg       0.94      0.84      0.88    449919\n",
      "weighted avg       0.96      0.96      0.95    449919\n",
      "\n",
      "\n",
      "threshold: 1.4999999999999998\n",
      "              precision    recall  f1-score   support\n",
      "\n",
      "      Normal       0.96      0.99      0.98    395298\n",
      "      Attack       0.93      0.69      0.79     54621\n",
      "\n",
      "    accuracy                           0.96    449919\n",
      "   macro avg       0.95      0.84      0.88    449919\n",
      "weighted avg       0.96      0.96      0.95    449919\n",
      "\n",
      "\n"
     ]
    }
   ],
   "source": [
    "config[\"training_args\"][\"threshold\"] = 0.4\n",
    "text = []\n",
    "# thresholds = np.percentile(test_losses, [80, 85, 90, 95, 99]).tolist()\n",
    "thresholds = np.arange(0.6, 1.51, 0.1).tolist()\n",
    "# thresholds += [config[\"training_args\"][\"threshold\"]]  \n",
    "\n",
    "for threshold in thresholds:\n",
    "    y_pred = (np.array(test_losses) > threshold).astype(int)\n",
    "    if AE_MODEL:    \n",
    "        y_pred = np.concatenate([np.zeros(dataset_args[\"winsize\"]-1), y_pred]) # 自编码器的预测是窗口内的最后一步\n",
    "        y_pred = np.concatenate([y_pred, np.zeros(1)])     # 由于数据集构造是面向预测的，最后一步不在训练集里面\n",
    "    else:\n",
    "        y_pred = np.concatenate([np.zeros(dataset_args[\"winsize\"]), y_pred])  # 预测下一步\n",
    "    text.append(f'threshold: {threshold}\\n' + classification_report(y_true, y_pred, target_names=['Normal', 'Attack']) + '\\n')\n",
    "    print(text[-1])\n",
    "\n",
    "\"\"\"结果保存\"\"\"\n",
    "# 保存评估结果到json文件\n",
    "with open(f'./checkpoints/{filenameWithoutExt}.json', 'w') as f:\n",
    "    json.dump({'args': config, 'classification_report': text}, f, indent=4)"
   ]
  }
 ],
 "metadata": {
  "kernelspec": {
   "display_name": "dl-lab",
   "language": "python",
   "name": "python3"
  },
  "language_info": {
   "codemirror_mode": {
    "name": "ipython",
    "version": 3
   },
   "file_extension": ".py",
   "mimetype": "text/x-python",
   "name": "python",
   "nbconvert_exporter": "python",
   "pygments_lexer": "ipython3",
   "version": "3.13.2"
  }
 },
 "nbformat": 4,
 "nbformat_minor": 2
}
