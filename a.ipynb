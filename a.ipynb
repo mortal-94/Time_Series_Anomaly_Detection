{
 "cells": [
  {
   "cell_type": "code",
   "execution_count": 1,
   "metadata": {},
   "outputs": [
    {
     "name": "stdout",
     "output_type": "stream",
     "text": [
      "     FIT101    LIT101   MV101  P101  P102    AIT201    AIT202    AIT203  \\\n",
      "0  2.427057  522.8467     2.0   2.0   1.0  262.0161  8.396437  328.6337   \n",
      "1  2.446274  522.8860     2.0   2.0   1.0  262.0161  8.396437  328.6337   \n",
      "2  2.489191  522.8467     2.0   2.0   1.0  262.0161  8.394514  328.6337   \n",
      "3  2.534350  522.9645     2.0   2.0   1.0  262.0161  8.394514  328.6337   \n",
      "4  2.569260  523.4748     2.0   2.0   1.0  262.0161  8.394514  328.6337   \n",
      "\n",
      "     FIT201   MV201  ...  P501  P502    PIT501    PIT502    PIT503    FIT601  \\\n",
      "0  2.445391     2.0  ...   2.0   1.0  250.8652  1.649953  189.5988  0.000128   \n",
      "1  2.445391     2.0  ...   2.0   1.0  250.8652  1.649953  189.6789  0.000128   \n",
      "2  2.442316     2.0  ...   2.0   1.0  250.8812  1.649953  189.6789  0.000128   \n",
      "3  2.442316     2.0  ...   2.0   1.0  250.8812  1.649953  189.6148  0.000128   \n",
      "4  2.443085     2.0  ...   2.0   1.0  250.8812  1.649953  189.5027  0.000128   \n",
      "\n",
      "   P601  P602  P603  Normal/Attack  \n",
      "0   1.0   1.0   1.0              0  \n",
      "1   1.0   1.0   1.0              0  \n",
      "2   1.0   1.0   1.0              0  \n",
      "3   1.0   1.0   1.0              0  \n",
      "4   1.0   1.0   1.0              0  \n",
      "\n",
      "[5 rows x 52 columns]\n",
      "(449919, 52)\n",
      "54621\n",
      "0.12140185233342002\n"
     ]
    }
   ],
   "source": [
    "import pandas as pd\n",
    "\n",
    "df = pd.read_csv('SWaT/swat2.csv')\n",
    "print(df.head())\n",
    "df = df.values\n",
    "print(df.shape)\n",
    "ano = 0\n",
    "for u in range(len(df)):\n",
    "    if(df[u][-1]==1):\n",
    "        ano = ano+1\n",
    "print(ano)\n",
    "print(ano/len(df))"
   ]
  },
  {
   "cell_type": "code",
   "execution_count": 2,
   "metadata": {},
   "outputs": [
    {
     "name": "stdout",
     "output_type": "stream",
     "text": [
      "   FIT101    LIT101   MV101  P101  P102    AIT201    AIT202    AIT203  FIT201  \\\n",
      "0     0.0  124.3135     1.0   1.0   1.0  251.9226  8.313446  312.7916     0.0   \n",
      "1     0.0  124.3920     1.0   1.0   1.0  251.9226  8.313446  312.7916     0.0   \n",
      "2     0.0  124.4705     1.0   1.0   1.0  251.9226  8.313446  312.7916     0.0   \n",
      "3     0.0  124.6668     1.0   1.0   1.0  251.9226  8.313446  312.7916     0.0   \n",
      "4     0.0  124.5098     1.0   1.0   1.0  251.9226  8.313446  312.7916     0.0   \n",
      "\n",
      "    MV201  ...  P501  P502    PIT501  PIT502  PIT503    FIT601  P601  P602  \\\n",
      "0     1.0  ...   1.0   1.0  9.100231     0.0  3.3485  0.000256   1.0   1.0   \n",
      "1     1.0  ...   1.0   1.0  9.100231     0.0  3.3485  0.000256   1.0   1.0   \n",
      "2     1.0  ...   1.0   1.0  9.100231     0.0  3.3485  0.000256   1.0   1.0   \n",
      "3     1.0  ...   1.0   1.0  9.100231     0.0  3.3485  0.000256   1.0   1.0   \n",
      "4     1.0  ...   1.0   1.0  9.100231     0.0  3.3485  0.000256   1.0   1.0   \n",
      "\n",
      "   P603  Normal/Attack  \n",
      "0   1.0              0  \n",
      "1   1.0              0  \n",
      "2   1.0              0  \n",
      "3   1.0              0  \n",
      "4   1.0              0  \n",
      "\n",
      "[5 rows x 52 columns]\n",
      "(495000, 52)\n",
      "0\n",
      "0.0\n"
     ]
    }
   ],
   "source": [
    "df = pd.read_csv('SWaT/swat_train2.csv')\n",
    "print(df.head())\n",
    "df = df.values\n",
    "print(df.shape)\n",
    "ano = 0\n",
    "for u in range(len(df)):\n",
    "    if(df[u][-1]==1):\n",
    "        ano = ano+1\n",
    "print(ano)\n",
    "print(ano/len(df))"
   ]
  },
  {
   "cell_type": "code",
   "execution_count": 11,
   "metadata": {},
   "outputs": [
    {
     "name": "stderr",
     "output_type": "stream",
     "text": [
      "C:\\Users\\14680\\AppData\\Local\\Temp\\ipykernel_20052\\1848050369.py:1: DtypeWarning: Columns (1,2,3,4,5,6,7,8,9,10,11,12,13,14,15,16,17,18,19,20,21,22,23,24,25,26,27,28,29,30,31,32,33,34,35,36,37,38,39,40,41,42,43,44,45,46,47,48,49,50,51) have mixed types. Specify dtype option on import or set low_memory=False.\n",
      "  df = pd.read_csv('SWaT/swat_raw.csv')\n"
     ]
    },
    {
     "name": "stdout",
     "output_type": "stream",
     "text": [
      "0                Timestamp    FIT101    LIT101  MV101 P101 P102    AIT201  \\\n",
      "1   28/12/2015 10:00:00 AM  2.427057  522.8467      2    2    1  262.0161   \n",
      "2   28/12/2015 10:00:01 AM  2.446274   522.886      2    2    1  262.0161   \n",
      "3   28/12/2015 10:00:02 AM  2.489191  522.8467      2    2    1  262.0161   \n",
      "4   28/12/2015 10:00:03 AM   2.53435  522.9645      2    2    1  262.0161   \n",
      "5   28/12/2015 10:00:04 AM   2.56926  523.4748      2    2    1  262.0161   \n",
      "\n",
      "0    AIT202    AIT203    FIT201  ... P501 P502    PIT501    PIT502    PIT503  \\\n",
      "1  8.396437  328.6337  2.445391  ...    2    1  250.8652  1.649953  189.5988   \n",
      "2  8.396437  328.6337  2.445391  ...    2    1  250.8652  1.649953  189.6789   \n",
      "3  8.394514  328.6337  2.442316  ...    2    1  250.8812  1.649953  189.6789   \n",
      "4  8.394514  328.6337  2.442316  ...    2    1  250.8812  1.649953  189.6148   \n",
      "5  8.394514  328.6337  2.443085  ...    2    1  250.8812  1.649953  189.5027   \n",
      "\n",
      "0       FIT601 P601 P602 P603 Normal/Attack  \n",
      "1  0.000128152    1    1    1        Normal  \n",
      "2  0.000128152    1    1    1        Normal  \n",
      "3  0.000128152    1    1    1        Normal  \n",
      "4  0.000128152    1    1    1        Normal  \n",
      "5  0.000128152    1    1    1        Normal  \n",
      "\n",
      "[5 rows x 53 columns]\n"
     ]
    }
   ],
   "source": [
    "df = pd.read_csv('SWaT/swat_raw.csv')\n",
    "# 表头设置为第一行，然后删除第一行\n",
    "df.columns = df.iloc[0]\n",
    "df = df.drop(0)\n",
    "print(df.head())"
   ]
  },
  {
   "cell_type": "code",
   "execution_count": 15,
   "metadata": {},
   "outputs": [
    {
     "name": "stdout",
     "output_type": "stream",
     "text": [
      "Index([' Timestamp', 'FIT101', 'LIT101', ' MV101', 'P101', 'P102', ' AIT201',\n",
      "       'AIT202', 'AIT203', 'FIT201', ' MV201', ' P201', ' P202', 'P203',\n",
      "       ' P204', 'P205', 'P206', 'DPIT301', 'FIT301', 'LIT301', 'MV301',\n",
      "       'MV302', ' MV303', 'MV304', 'P301', 'P302', 'AIT401', 'AIT402',\n",
      "       'FIT401', 'LIT401', 'P401', 'P402', 'P403', 'P404', 'UV401', 'AIT501',\n",
      "       'AIT502', 'AIT503', 'AIT504', 'FIT501', 'FIT502', 'FIT503', 'FIT504',\n",
      "       'P501', 'P502', 'PIT501', 'PIT502', 'PIT503', 'FIT601', 'P601', 'P602',\n",
      "       'P603', 'Normal/Attack'],\n",
      "      dtype='object', name=0)\n",
      "0\n",
      " Timestamp        28/12/2015 10:00:00 AM\n",
      "FIT101                          2.427057\n",
      "LIT101                          522.8467\n",
      " MV101                                 2\n",
      "P101                                   2\n",
      "P102                                   1\n",
      " AIT201                         262.0161\n",
      "AIT202                          8.396437\n",
      "AIT203                          328.6337\n",
      "FIT201                          2.445391\n",
      " MV201                                 2\n",
      " P201                                  1\n",
      " P202                                  1\n",
      "P203                                   2\n",
      " P204                                  1\n",
      "P205                                   2\n",
      "P206                                   1\n",
      "DPIT301                         19.74838\n",
      "FIT301                          2.206835\n",
      "LIT301                          956.1651\n",
      "MV301                                  1\n",
      "MV302                                  2\n",
      " MV303                                 1\n",
      "MV304                                  1\n",
      "P301                                   1\n",
      "P302                                   2\n",
      "AIT401                           148.808\n",
      "AIT402                          156.0882\n",
      "FIT401                          1.713517\n",
      "LIT401                          942.0662\n",
      "P401                                   1\n",
      "P402                                   2\n",
      "P403                                   1\n",
      "P404                                   1\n",
      "UV401                                  2\n",
      "AIT501                          7.878621\n",
      "AIT502                          145.1166\n",
      "AIT503                          264.5475\n",
      "AIT504                          12.03538\n",
      "FIT501                          1.723789\n",
      "FIT502                          1.279621\n",
      "FIT503                         0.7352687\n",
      "FIT504                         0.3077859\n",
      "P501                                   2\n",
      "P502                                   1\n",
      "PIT501                          250.8652\n",
      "PIT502                          1.649953\n",
      "PIT503                          189.5988\n",
      "FIT601                       0.000128152\n",
      "P601                                   1\n",
      "P602                                   1\n",
      "P603                                   1\n",
      "Normal/Attack                     Normal\n",
      "Name: 1, dtype: object\n",
      " 28/12/2015 10:00:00 AM\n"
     ]
    },
    {
     "name": "stderr",
     "output_type": "stream",
     "text": [
      "C:\\Users\\14680\\AppData\\Local\\Temp\\ipykernel_20052\\2484512602.py:6: FutureWarning: Series.__getitem__ treating keys as positions is deprecated. In a future version, integer keys will always be treated as labels (consistent with DataFrame behavior). To access a value by position, use `ser.iloc[pos]`\n",
      "  print(df.iloc[0][0])\n"
     ]
    }
   ],
   "source": [
    "# 打印所有的列名\n",
    "print(df.columns)\n",
    "# 获取第一行的数据\n",
    "print(df.iloc[0])\n",
    "# 获取第一行第一个数据\n",
    "print(df.iloc[0][0])"
   ]
  }
 ],
 "metadata": {
  "kernelspec": {
   "display_name": "dl-lab",
   "language": "python",
   "name": "python3"
  },
  "language_info": {
   "codemirror_mode": {
    "name": "ipython",
    "version": 3
   },
   "file_extension": ".py",
   "mimetype": "text/x-python",
   "name": "python",
   "nbconvert_exporter": "python",
   "pygments_lexer": "ipython3",
   "version": "3.13.2"
  }
 },
 "nbformat": 4,
 "nbformat_minor": 2
}
